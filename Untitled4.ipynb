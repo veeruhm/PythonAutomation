{
 "cells": [
  {
   "cell_type": "code",
   "execution_count": null,
   "id": "16bb74aa-353a-44ef-a7c5-8fe4dc39fb47",
   "metadata": {},
   "outputs": [],
   "source": []
  }
 ],
 "metadata": {
  "kernelspec": {
   "display_name": "",
   "name": ""
  },
  "language_info": {
   "name": ""
  }
 },
 "nbformat": 4,
 "nbformat_minor": 5
}
